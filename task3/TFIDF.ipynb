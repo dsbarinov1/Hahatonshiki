{
 "cells": [
  {
   "cell_type": "code",
   "execution_count": 2,
   "metadata": {},
   "outputs": [],
   "source": [
    "import numpy as np\n",
    "import pandas as pd\n",
    "import matplotlib.pyplot as plt\n",
    "import seaborn as sns\n",
    "import re\n",
    "from sklearn.metrics import classification_report\n",
    "from nltk.tokenize.toktok import ToktokTokenizer\n",
    "from nltk.corpus import stopwords\n",
    "from gensim.models import Word2Vec, Phrases\n",
    "pd.options.display.float_format = '{:,.4f}'.format\n",
    "seed = 42\n",
    "np.random.seed(seed)"
   ]
  },
  {
   "cell_type": "code",
   "execution_count": 3,
   "metadata": {},
   "outputs": [],
   "source": [
    "df = pd.read_csv(\"task-3-dataset.csv\") # Считываем данные"
   ]
  },
  {
   "cell_type": "code",
   "execution_count": 4,
   "metadata": {},
   "outputs": [],
   "source": [
    "import pymorphy3\n",
    "morph = pymorphy3.MorphAnalyzer(lang='ru')\n",
    "# Функция загрузки стопслов\n",
    "def downloads_():\n",
    "    import nltk\n",
    "    nltk.download('stopwords')\n",
    "    from nltk.corpus import stopwords\n",
    "\n",
    "# Функция обработки текта\n",
    "def foo(review):\n",
    "    # Обработка текста отзыва. Оставляем только буквы, приводим к нижнему регистру\n",
    "    review = review.lower()\n",
    "    review = review.replace('ё','е')\n",
    "    review = re.sub('\\[[^]]*\\]', ' ', review)\n",
    "    review = re.sub('[^а-я]', ' ', review)\n",
    "    # Отделяем слова\n",
    "    review = review.split()\n",
    "    # Избавляемся от стоп-слов(предлоги,союзы, частицы, не несущие семантической нагрузки)\n",
    "    review = [word for word in review if not word in set(stopwords.words('russian'))]\n",
    "    # Лемматизируем(для русского языка в явном виде нет, но пока тк)\n",
    "    # В явном виде лемматизации нет для русского языка,  SNOWBALL STEMMER как вариант\n",
    "    lemmatized_words = [morph.normal_forms(word)[0] for word in review]\n",
    "    lemmatized_text = ' '.join(lemmatized_words)\n",
    "    return lemmatized_text"
   ]
  },
  {
   "cell_type": "code",
   "execution_count": 5,
   "metadata": {},
   "outputs": [],
   "source": [
    "# Разделим данные, пока нет тестовых\n",
    "from sklearn.model_selection import train_test_split\n",
    "df[\"разметка\"].loc[df[\"разметка\"]==\"+\"]=1\n",
    "df[\"разметка\"].loc[df[\"разметка\"]==\"-\"]=0\n",
    "df[\"отзывы\"] = df[\"отзывы\"].apply(foo)\n",
    "#dataset_train, dataset_test, train_data_label, test_data_label = train_test_split(df['отзывы'], df['разметка'], test_size=0.2, random_state=42)"
   ]
  },
  {
   "cell_type": "code",
   "execution_count": 6,
   "metadata": {},
   "outputs": [],
   "source": [
    "#Tokenization of text\n",
    "tokenizer=ToktokTokenizer()"
   ]
  },
  {
   "cell_type": "code",
   "execution_count": 7,
   "metadata": {},
   "outputs": [
    {
     "name": "stderr",
     "output_type": "stream",
     "text": [
      "[nltk_data] Downloading package stopwords to\n",
      "[nltk_data]     C:\\Users\\fayne\\AppData\\Roaming\\nltk_data...\n",
      "[nltk_data]   Package stopwords is already up-to-date!\n"
     ]
    }
   ],
   "source": [
    "downloads_()\n"
   ]
  },
  {
   "cell_type": "code",
   "execution_count": 8,
   "metadata": {},
   "outputs": [
    {
     "name": "stdout",
     "output_type": "stream",
     "text": [
      "Tfidf_train: (210, 3884)\n"
     ]
    }
   ],
   "source": [
    "from sklearn.feature_extraction.text import TfidfVectorizer\n",
    "tv=TfidfVectorizer(min_df=0.0,max_df=1.0,use_idf=True,ngram_range=(1,3))\n",
    "#transformed train reviews\n",
    "tv_train_reviews=tv.fit_transform(df['отзывы'])\n",
    "#transformed test reviews\n",
    "print('Tfidf_train:',tv_train_reviews.shape)"
   ]
  },
  {
   "cell_type": "code",
   "execution_count": 9,
   "metadata": {},
   "outputs": [],
   "source": [
    "# Применим метод главных компонент для того, чтобы сократить вектор TF-IDF\n",
    "from sklearn.decomposition import PCA\n",
    "def reduce_dimensionality(X, n_components=16): # число кубит\n",
    "    pca = PCA(n_components=n_components)\n",
    "    return pca.fit_transform(X)"
   ]
  },
  {
   "cell_type": "code",
   "execution_count": 10,
   "metadata": {},
   "outputs": [],
   "source": [
    "# Обрежем данные\n",
    "X = tv_train_reviews.copy()\n",
    "y = df['разметка']\n",
    "X_reduced = reduce_dimensionality(X)\n",
    "X_train, X_test, y_train, y_test = train_test_split(X_reduced, y, test_size=0.2)"
   ]
  },
  {
   "cell_type": "code",
   "execution_count": 11,
   "metadata": {},
   "outputs": [],
   "source": [
    "import qiskit\n",
    "from qiskit_aer import Aer\n",
    "from qiskit.circuit import QuantumCircuit, Parameter\n",
    "from qiskit.primitives import Sampler, Estimator\n",
    "#from qiskit.algorithms.optimizers import COBYLA\n",
    "from qiskit_machine_learning.neural_networks import SamplerQNN, EstimatorQNN\n",
    "from qiskit_machine_learning.connectors import TorchConnector\n",
    "from qiskit_machine_learning.circuit.library import QNNCircuit\n",
    "\n"
   ]
  },
  {
   "cell_type": "code",
   "execution_count": 12,
   "metadata": {},
   "outputs": [
    {
     "name": "stdout",
     "output_type": "stream",
     "text": [
      "        ┌─────────────┐                ░ ┌─┐         \n",
      "   q_0: ┤ Ry(theta_0) ├──■─────────────░─┤M├─────────\n",
      "        ├─────────────┤┌─┴─┐           ░ └╥┘┌─┐      \n",
      "   q_1: ┤ Ry(theta_1) ├┤ X ├──■────────░──╫─┤M├──────\n",
      "        ├─────────────┤└───┘┌─┴─┐      ░  ║ └╥┘┌─┐   \n",
      "   q_2: ┤ Ry(theta_2) ├─────┤ X ├──■───░──╫──╫─┤M├───\n",
      "        ├─────────────┤     └───┘┌─┴─┐ ░  ║  ║ └╥┘┌─┐\n",
      "   q_3: ┤ Ry(theta_3) ├──────────┤ X ├─░──╫──╫──╫─┤M├\n",
      "        └─────────────┘          └───┘ ░  ║  ║  ║ └╥┘\n",
      "meas: 4/══════════════════════════════════╩══╩══╩══╩═\n",
      "                                          0  1  2  3 \n"
     ]
    }
   ],
   "source": [
    "# Создадим квантовую схему\n",
    "n_qubits = 4 # Число кубит\n",
    "circuit = QuantumCircuit(n_qubits)\n",
    "# Параметры для схемы\n",
    "params = [Parameter(f'theta_{i}') for i in range(n_qubits * 2)]\n",
    "# Кодирование данных\n",
    "for i in range(n_qubits):\n",
    "    circuit.ry(params[i], i)\n",
    "# Параметризированные вращения\n",
    "for i in range(n_qubits - 1):\n",
    "    circuit.cx(i, i + 1)\n",
    "# Добавляем измерения\n",
    "circuit.measure_all()\n",
    "# Рисуем схему в текстовом формате\n",
    "print(circuit.draw(output='text'))"
   ]
  },
  {
   "cell_type": "code",
   "execution_count": 13,
   "metadata": {},
   "outputs": [],
   "source": [
    "from qiskit.circuit.library import RealAmplitudes, ZZFeatureMap\n",
    "\n",
    "num_inputs = 4\n",
    "feature_map = ZZFeatureMap(num_inputs)\n",
    "ansatz = RealAmplitudes(num_inputs,reps=1)\n",
    "\n",
    "circuit = QuantumCircuit(num_inputs)\n",
    "circuit.compose(feature_map, inplace=True)\n",
    "circuit.compose(ansatz, inplace=True)\n",
    "\n",
    "def parity(x):\n",
    "    return \"{:b}\".format(x).count(\"1\") % 2"
   ]
  },
  {
   "cell_type": "code",
   "execution_count": 65,
   "metadata": {},
   "outputs": [
    {
     "name": "stderr",
     "output_type": "stream",
     "text": [
      "C:\\Users\\fayne\\AppData\\Local\\Temp\\ipykernel_24296\\3788435028.py:4: DeprecationWarning: The class ``qiskit.primitives.sampler.Sampler`` is deprecated as of qiskit 1.2. It will be removed no earlier than 3 months after the release date. All implementations of the `BaseSamplerV1` interface have been deprecated in favor of their V2 counterparts. The V2 alternative for the `Sampler` class is `StatevectorSampler`.\n",
      "  sampler = Sampler()\n",
      "C:\\Users\\fayne\\AppData\\Local\\Temp\\ipykernel_24296\\3788435028.py:5: DeprecationWarning: V1 Primitives are deprecated as of qiskit-machine-learning 0.8.0 and will be removed no sooner than 4 months after the release date. Use V2 primitives for continued compatibility and support.\n",
      "  sampler_qnn = SamplerQNN(\n"
     ]
    }
   ],
   "source": [
    "from qiskit_machine_learning.neural_networks import SamplerQNN\n",
    "from qiskit.primitives import Sampler\n",
    "\n",
    "sampler = Sampler()\n",
    "sampler_qnn = SamplerQNN(\n",
    "    circuit=circuit,\n",
    "    input_params=feature_map.parameters,\n",
    "    weight_params=ansatz.parameters,\n",
    "    interpret=parity,\n",
    "    output_shape=2,\n",
    "    sampler=sampler,\n",
    ")"
   ]
  },
  {
   "cell_type": "code",
   "execution_count": null,
   "metadata": {},
   "outputs": [
    {
     "data": {
      "text/plain": [
       "<qiskit_machine_learning.algorithms.classifiers.neural_network_classifier.NeuralNetworkClassifier at 0x19bc94bcbd0>"
      ]
     },
     "execution_count": 67,
     "metadata": {},
     "output_type": "execute_result"
    }
   ],
   "source": [
    "from qiskit_machine_learning.algorithms import NeuralNetworkClassifier\n",
    "classifier = NeuralNetworkClassifier(\n",
    "    neural_network=sampler_qnn,\n",
    "    loss=\"cross_entropy\",\n",
    "    one_hot=True,\n",
    ")\n",
    "classifier.fit(np.asarray(X_train), np.asarray(y_train))"
   ]
  },
  {
   "cell_type": "code",
   "execution_count": 75,
   "metadata": {},
   "outputs": [],
   "source": [
    "y_pred = classifier.predict(X_test)\n",
    "y_pred = [int(i) for i in y_pred]\n",
    "y_true = [int(i) for i in y_test]"
   ]
  },
  {
   "cell_type": "code",
   "execution_count": 77,
   "metadata": {},
   "outputs": [
    {
     "name": "stdout",
     "output_type": "stream",
     "text": [
      "Accuracy: 0.57\n",
      "Precision: 0.59\n",
      "Recall: 0.57\n",
      "F1 Score: 0.57\n"
     ]
    }
   ],
   "source": [
    "from sklearn.metrics import accuracy_score, precision_score, recall_score, f1_score, classification_report\n",
    "\n",
    "# Вывод точности\n",
    "accuracy = accuracy_score(y_true, y_pred)\n",
    "print(f\"Accuracy: {accuracy:.2f}\")\n",
    "\n",
    "# Вывод precision, recall и f1-score\n",
    "precision = precision_score(y_true, y_pred, average='weighted')\n",
    "recall = recall_score(y_true, y_pred, average='weighted')\n",
    "f1 = f1_score(y_true, y_pred, average='weighted')\n",
    "\n",
    "print(f\"Precision: {precision:.2f}\")\n",
    "print(f\"Recall: {recall:.2f}\")\n",
    "print(f\"F1 Score: {f1:.2f}\")"
   ]
  },
  {
   "cell_type": "markdown",
   "metadata": {},
   "source": [
    "# Pennylane"
   ]
  },
  {
   "cell_type": "code",
   "execution_count": 114,
   "metadata": {},
   "outputs": [],
   "source": [
    "# Обрежем данные\n",
    "X = tv_train_reviews.copy()\n",
    "y = df['разметка']\n",
    "X_reduced = reduce_dimensionality(X)\n",
    "X_train, X_test, y_train, y_test = train_test_split(X_reduced, y, test_size=0.2)"
   ]
  },
  {
   "cell_type": "code",
   "execution_count": 126,
   "metadata": {},
   "outputs": [],
   "source": [
    "from torch.utils.data import DataLoader\n",
    "import torch\n",
    "batch_size = 2\n",
    "device = torch.device(\"cuda:0\" if torch.cuda.is_available() else \"cpu\")\n",
    "train_loader = DataLoader(X_train,  batch_size=batch_size,shuffle=True)\n",
    "test_loader = DataLoader(X_test, batch_size=batch_size, shuffle=False)"
   ]
  },
  {
   "cell_type": "code",
   "execution_count": 127,
   "metadata": {},
   "outputs": [],
   "source": [
    "import pennylane as qml\n",
    "num_classes = 2\n",
    "feature_size = 16\n",
    "# number of qubits - logarithm of numbers of features\n",
    "num_qubits = int(np.ceil(np.log2(feature_size)))\n",
    "num_layers = 30\n",
    "margin = 0.15\n",
    "\n",
    "lr_adam = 0.001\n",
    "num_epochs = 6\n",
    "dev = qml.device(\"default.qubit\", wires=num_qubits)"
   ]
  },
  {
   "cell_type": "code",
   "execution_count": 128,
   "metadata": {},
   "outputs": [],
   "source": [
    "def layer(W, flag=None):\n",
    "    for i in range(num_qubits):\n",
    "        qml.RY(W[i], wires=i)\n",
    "    if (flag == None): # add last layer without entangling gates\n",
    "        for j in range(num_qubits - 1):\n",
    "            qml.CNOT(wires=[j, j + 1])\n",
    "\n",
    "def circuit(weights, feat=None):\n",
    "    qml.AmplitudeEmbedding(feat, range(num_qubits), pad_with=0.0, normalize=True)\n",
    "    qml.Barrier(list(range(num_qubits))) # for drawing\n",
    "    \n",
    "    for i, W in enumerate(weights):\n",
    "        if i < len(weights) - 1:\n",
    "            layer(W)\n",
    "        else:\n",
    "            layer(W, 'last')\n",
    "        qml.Barrier(list(range(num_qubits)))\n",
    "\n",
    "    return qml.expval(qml.PauliZ(0)) # observable"
   ]
  },
  {
   "cell_type": "code",
   "execution_count": 129,
   "metadata": {},
   "outputs": [],
   "source": [
    "# for classifiers\n",
    "qnodes = []\n",
    "for iq in range(num_classes):\n",
    "    qnode = qml.QNode(circuit, dev, interface=\"torch\")\n",
    "    qnodes.append(qnode)\n",
    "\n",
    "def variational_classifier(q_circuit, params, feat):\n",
    "    weights = params[0]\n",
    "    bias = params[1]\n",
    "    return q_circuit(weights, feat=feat) + bias"
   ]
  },
  {
   "cell_type": "code",
   "execution_count": 130,
   "metadata": {},
   "outputs": [
    {
     "data": {
      "image/png": "[encoded data removed]",
      "text/plain": [
       "<Figure size 1200x500 with 1 Axes>"
      ]
     },
     "metadata": {},
     "output_type": "display_data"
    }
   ],
   "source": [
    "from matplotlib import pyplot as plt\n",
    "from torch.autograd import Variable\n",
    "import torch\n",
    "\n",
    "all_weights = Variable(0.1 * torch.randn(1 + 1, num_qubits), requires_grad=True)\n",
    "all_bias = Variable(0.1 * torch.ones(1), requires_grad=True)\n",
    "params = (all_weights, all_bias)\n",
    "\n",
    "fig, ax = qml.draw_mpl(circuit)(params[0], params[1])\n",
    "plt.show()"
   ]
  },
  {
   "cell_type": "code",
   "execution_count": 131,
   "metadata": {},
   "outputs": [],
   "source": [
    "def margin_loss(q_circuits, all_params, feature_vecs, true_labels):\n",
    "    loss = 0\n",
    "    num_samples = len(true_labels)\n",
    "    for i, feature_vec in enumerate(feature_vecs):\n",
    "        feature_vec = feature_vec.to(device)\n",
    "\n",
    "        # Let's calculate the score assigned to this sample by the classifier corresponding to the true label\n",
    "        s_true = variational_classifier(q_circuits[int(true_labels[i])],\n",
    "                                        (all_params[0][int(true_labels[i])], all_params[1][int(true_labels[i])]),\n",
    "                                        feature_vec)\n",
    "        s_true = s_true.float()\n",
    "\n",
    "        # Let's get values for the wrong classes\n",
    "        li = 0\n",
    "        for j in range(num_classes):\n",
    "            if j != int(true_labels[i]):\n",
    "                s_j = variational_classifier(q_circuits[j],\n",
    "                                            (all_params[0][j], all_params[1][j]),\n",
    "                                             feature_vec)\n",
    "                s_j = s_j.float()\n",
    "                li += torch.max(torch.zeros(1).to(device).float(), s_j - s_true + margin)\n",
    "        loss += li\n",
    "\n",
    "    return loss / num_samples"
   ]
  },
  {
   "cell_type": "code",
   "execution_count": 132,
   "metadata": {},
   "outputs": [],
   "source": [
    "def classify(q_circuits, all_params, feature_vecs):\n",
    "    predicted_labels = []\n",
    "    for feature_vec in feature_vecs:\n",
    "        scores = np.zeros(num_classes)\n",
    "        for c in range(num_classes):\n",
    "            score = variational_classifier(q_circuits[c],\n",
    "                                           (all_params[0][c], all_params[1][c]),\n",
    "                                           feature_vec)\n",
    "            scores[c] = float(score)\n",
    "        pred_class = np.argmax(scores)\n",
    "        predicted_labels.append(pred_class)\n",
    "    return predicted_labels\n",
    "\n",
    "\n",
    "def accuracy(labels, hard_predictions):\n",
    "    acc = 0\n",
    "    for l, p in zip(labels, hard_predictions):\n",
    "        if torch.abs(l - p) < 1e-5:\n",
    "            acc += 1\n",
    "    acc = acc / labels.shape[0]\n",
    "    return acc"
   ]
  },
  {
   "cell_type": "code",
   "execution_count": 133,
   "metadata": {},
   "outputs": [],
   "source": [
    "from collections import defaultdict\n",
    "import matplotlib.pyplot as plt\n",
    "\n",
    "class ProgressPlotter:\n",
    "    def __init__(self, title=\"default\", groups=None) -> None:\n",
    "        self._history_dict = defaultdict(dict)\n",
    "        self.set_title(title)\n",
    "        self.groups = self.get_groups(groups)\n",
    "\n",
    "    def get_groups(self, groups):\n",
    "        if groups is not None:\n",
    "            return self._history_dict.keys()\n",
    "        if type(groups) is str:\n",
    "            groups = [groups]\n",
    "        return groups\n",
    "\n",
    "    def set_title(self, title):\n",
    "        for g in self._history_dict.keys():\n",
    "            self._history_dict[g][title] = []  # reset data\n",
    "        self.title = title\n",
    "\n",
    "    # group e.g. \"loss_val\" tag e.g. \"experiment_1\"\n",
    "    def add_scalar(self, group: str, value, tag=None) -> None:\n",
    "        tag = self.title if tag is None else tag\n",
    "\n",
    "        if not tag in self._history_dict[group]:\n",
    "            self._history_dict[group][tag] = []\n",
    "        self._history_dict[group][tag].append(value)\n",
    "\n",
    "    def add_row(self, group: str, value, tag=None) -> None:\n",
    "        tag = self.title if tag is None else tag\n",
    "        self._history_dict[group][tag] = value\n",
    "\n",
    "    def display_keys(self, ax, data):\n",
    "        history_len = 0\n",
    "        ax.grid()\n",
    "        for key in data:\n",
    "            ax.plot(data[key], label=key)\n",
    "            history_len = max(history_len, len(data[key]))\n",
    "        if len(data) > 1:\n",
    "            ax.legend(loc=\"best\")\n",
    "        if history_len < 20:\n",
    "            ax.set_xlabel(\"step\")\n",
    "            ax.set_xticks(np.arange(history_len))\n",
    "            ax.set_xticklabels(np.arange(history_len))\n",
    "\n",
    "    \"\"\"\n",
    "     groups list of keys like [['loss_train','loss_val'],['accuracy']]\n",
    "     All charts within a group will be plot in the same axis\n",
    "  \"\"\"\n",
    "\n",
    "    def display(self, groups=None):\n",
    "        clear_output()\n",
    "        if groups is None:\n",
    "            groups = self.groups\n",
    "        n_groups = len(groups)\n",
    "        fig, ax = plt.subplots(1, n_groups, figsize=(24 // n_groups, 5))\n",
    "        if n_groups == 1:\n",
    "            ax = [ax]\n",
    "        for i, g in enumerate(groups):\n",
    "            ax[i].set_ylabel(g)\n",
    "            self.display_keys(ax[i], self.history_dict[g])\n",
    "        fig.tight_layout()\n",
    "        plt.show()\n",
    "\n",
    "    @property\n",
    "    def history_dict(self):\n",
    "        return dict(self._history_dict)"
   ]
  },
  {
   "cell_type": "code",
   "execution_count": 134,
   "metadata": {},
   "outputs": [],
   "source": [
    "def to_device_(list_of_tensors, device):\n",
    "    for tensor in list_of_tensors:\n",
    "        tensor = tensor.to(device)\n",
    "    return list_of_tensors"
   ]
  },
  {
   "cell_type": "code",
   "execution_count": null,
   "metadata": {},
   "outputs": [
    {
     "name": "stdout",
     "output_type": "stream",
     "text": [
      "Num params:  250\n"
     ]
    },
    {
     "ename": "IndexError",
     "evalue": "too many indices for tensor of dimension 1",
     "output_type": "error",
     "traceback": [
      "\u001b[1;31m---------------------------------------------------------------------------\u001b[0m",
      "\u001b[1;31mIndexError\u001b[0m                                Traceback (most recent call last)",
      "File \u001b[1;32m<timed exec>:24\u001b[0m\n",
      "\u001b[1;31mIndexError\u001b[0m: too many indices for tensor of dimension 1"
     ]
    }
   ],
   "source": [
    "%%time\n",
    "from torch.autograd import Variable\n",
    "import torch.optim as optim\n",
    "\n",
    "pp = ProgressPlotter(groups=['loss', 'accuracy'])\n",
    "\n",
    "q_circuits = qnodes\n",
    "\n",
    "# Random parameters initialization\n",
    "all_weights = to_device_([Variable(0.1 * torch.randn(num_layers + 1, num_qubits).to(device), requires_grad=True) for i in range(num_classes)], device)\n",
    "all_bias = to_device_([Variable(0.1 * torch.ones(1).to(device), requires_grad=True) for i in range(num_classes)], device)\n",
    "\n",
    "optimizer = optim.Adam(all_weights + all_bias, lr=lr_adam)\n",
    "\n",
    "params = (all_weights, all_bias)\n",
    "print(\"Num params: \", num_classes * (num_qubits * (num_layers + 1) + 1))\n",
    "\n",
    "for e in range(num_epochs):\n",
    "    loss_train = 0\n",
    "    acc_train = 0\n",
    "    for i, batch in enumerate(train_loader):\n",
    "        measurements, labels = batch\n",
    "        measurements, labels = measurements.to(device), labels.to(device)\n",
    "\n",
    "        x = measurements[:, most_important].to(device)\n",
    "\n",
    "        optimizer.zero_grad()\n",
    "\n",
    "        curr_cost = margin_loss(q_circuits, params, x, labels)\n",
    "        l = curr_cost.detach().cpu().numpy()[0]\n",
    "        print(l, file=open(f\"logs/loss_{e}_6lays_001lr.txt\", \"a+\"))\n",
    "        loss_train += l\n",
    "\n",
    "        pred = classify(q_circuits, params, x)\n",
    "        a = accuracy(labels, pred)\n",
    "        print(a, file=open(f\"logs/acc_{e}_6lays_001lr.txt\", \"a+\"))\n",
    "        acc_train += a\n",
    "        \n",
    "        curr_cost.backward()\n",
    "        optimizer.step()\n",
    "\n",
    "        print(f\"Train: Epoch {e}, batch #{i+1}/{len(train_loader)}, loss={l}\")\n",
    "\n",
    "    loss_train /= len(train_loader)\n",
    "    acc_train /= len(train_loader)\n",
    "\n",
    "    loss_val = 0\n",
    "    acc_val = 0\n",
    "    for i, batch in enumerate(test_loader):\n",
    "        measurements, labels = batch\n",
    "        measurements, labels = measurements.to(device), labels.to(device)\n",
    "\n",
    "        x = measurements[:, most_important].to(device)\n",
    "\n",
    "        curr_cost = margin_loss(q_circuits, params, x, labels)\n",
    "        l = curr_cost.detach().cpu().numpy()[0]\n",
    "        print(l, file=open(f\"logs/loss_val_{e}_6lays_001lr.txt\", \"a+\"))\n",
    "        loss_val += l\n",
    "\n",
    "        pred = classify(q_circuits, params, x)\n",
    "        a = accuracy(labels, pred)\n",
    "        print(a, file=open(f\"logs/acc_val_{e}_6lays_001lr.txt\", \"a+\"))\n",
    "        acc_val += a\n",
    "\n",
    "        print(f\"Validation: Epoch {e}, batch #{i+1}/{len(test_loader)}, accuracy={a}\")\n",
    "\n",
    "    loss_val /= len(test_loader)\n",
    "    acc_val /= len(test_loader)\n",
    "\n",
    "    pp.add_scalar('loss', loss_train, 'train')\n",
    "    pp.add_scalar('loss', loss_val, 'test')\n",
    "\n",
    "    pp.add_scalar('accuracy', acc_train, 'train')\n",
    "    pp.add_scalar('accuracy', acc_val, 'test')\n",
    "    \n",
    "    pp.display()"
   ]
  },
  {
   "cell_type": "code",
   "execution_count": null,
   "metadata": {},
   "outputs": [],
   "source": []
  },
  {
   "cell_type": "code",
   "execution_count": null,
   "metadata": {},
   "outputs": [],
   "source": []
  },
  {
   "cell_type": "code",
   "execution_count": null,
   "metadata": {},
   "outputs": [],
   "source": []
  },
  {
   "cell_type": "code",
   "execution_count": null,
   "metadata": {},
   "outputs": [],
   "source": []
  }
 ],
 "metadata": {
  "kernelspec": {
   "display_name": "Python 3",
   "language": "python",
   "name": "python3"
  },
  "language_info": {
   "codemirror_mode": {
    "name": "ipython",
    "version": 3
   },
   "file_extension": ".py",
   "mimetype": "text/x-python",
   "name": "python",
   "nbconvert_exporter": "python",
   "pygments_lexer": "ipython3",
   "version": "3.11.5"
  }
 },
 "nbformat": 4,
 "nbformat_minor": 2
}
